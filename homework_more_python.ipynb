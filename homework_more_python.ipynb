{
 "cells": [
  {
   "cell_type": "code",
   "execution_count": null,
   "id": "b45b3ef2-5a2f-4156-b28c-98067c974e89",
   "metadata": {},
   "outputs": [],
   "source": []
  },
  {
   "cell_type": "code",
   "execution_count": 7,
   "id": "d0b87634-9493-4faf-8615-e39cff6e8ca9",
   "metadata": {},
   "outputs": [
    {
     "data": {
      "text/plain": [
       "[-1.0, 5.0, 47.0, 25.0, 55.0, 15.0, 30.0, 18.0, -5.0]"
      ]
     },
     "execution_count": 7,
     "metadata": {},
     "output_type": "execute_result"
    }
   ],
   "source": [
    "import numpy as np\n",
    "\n",
    "temperaturas_f = [30.2, 41, 115.7, 77, 130.46, 59, 86, 63.5, 23]\n",
    "temperaturas_c = []\n",
    "\n",
    "for temp in temperaturas_f:\n",
    "    celsius = np.round((temp - 32)*(5/9))\n",
    "    temperaturas_c.append(celsius)\n",
    "    \n",
    "temperaturas_c"
   ]
  },
  {
   "cell_type": "code",
   "execution_count": 9,
   "id": "6b4b0166-ff4e-4810-855d-8fe8ba67e271",
   "metadata": {},
   "outputs": [
    {
     "name": "stdout",
     "output_type": "stream",
     "text": [
      "Alerta! -1.0 es una baja temperatura\n",
      "5.0 es una temperatura normal\n",
      "Alerta! 47.0 es una alta temperatura\n",
      "25.0 es una temperatura normal\n",
      "Alerta! 55.0 es una alta temperatura\n",
      "15.0 es una temperatura normal\n",
      "30.0 es una temperatura normal\n",
      "18.0 es una temperatura normal\n",
      "Alerta! -5.0 es una baja temperatura\n"
     ]
    }
   ],
   "source": [
    "for temp in temperaturas_c:\n",
    "    if temp <= 0:\n",
    "        print(\"Alerta!\", temp, \"es una baja temperatura\")\n",
    "    elif temp >= 35:\n",
    "        print(\"Alerta!\", temp, \"es una alta temperatura\")\n",
    "    else:\n",
    "        print(temp, \"es una temperatura normal\")"
   ]
  },
  {
   "cell_type": "code",
   "execution_count": 18,
   "id": "ecfee15b-47ae-4bb2-9768-623fec24304d",
   "metadata": {},
   "outputs": [],
   "source": [
    "def far2cel(F):\n",
    "    \"\"\"\n",
    "    Convertir un valor de temperatura de Farenheit a Celsius\n",
    "    ----------------\n",
    "    \n",
    "    Argumentos:\n",
    "    F: int o float\n",
    "       Valor de la temperatura en Farenheit\n",
    "    -----------------\n",
    "    \n",
    "    Return:\n",
    "    C: int o float\n",
    "       Valor de la temperatura en Celsius\n",
    "    \"\"\"\n",
    "    C=np.round((F-32)*(5/9))\n",
    "    return C"
   ]
  },
  {
   "cell_type": "code",
   "execution_count": 19,
   "id": "6a29b152-3f76-49c0-92d4-92884946dbbd",
   "metadata": {},
   "outputs": [
    {
     "data": {
      "text/plain": [
       "0.0"
      ]
     },
     "execution_count": 19,
     "metadata": {},
     "output_type": "execute_result"
    }
   ],
   "source": [
    "far2cel(32)"
   ]
  },
  {
   "cell_type": "code",
   "execution_count": 20,
   "id": "e0eebb0e-27ba-42c8-9e37-58c230410ced",
   "metadata": {},
   "outputs": [],
   "source": [
    "def alerta_temp(temp):\n",
    "    \"\"\"\n",
    "    Imprime una alerta en base al valor de la temperatura en Celsius\n",
    "    --------------\n",
    "    \n",
    "    Argumentos:\n",
    "    C: int o float\n",
    "       Valor de la temperatura en Celsius\n",
    "    \"\"\"\n",
    "    if temp <= 0:\n",
    "        print(\"Alerta!\", temp, \"es una baja temperatura\")\n",
    "    elif temp >= 35:\n",
    "        print(\"Alerta!\", temp, \"es una alta temperatura\")\n",
    "    else:\n",
    "        print(temp, \"es una temperatura normal\")"
   ]
  },
  {
   "cell_type": "code",
   "execution_count": 21,
   "id": "501ad70b-8d50-4af2-b5d1-e40ad9f3bca4",
   "metadata": {},
   "outputs": [
    {
     "name": "stdout",
     "output_type": "stream",
     "text": [
      "Alerta! -3 es una baja temperatura\n"
     ]
    }
   ],
   "source": [
    "alerta_temp(-3)"
   ]
  },
  {
   "cell_type": "code",
   "execution_count": 22,
   "id": "e5f27edf-d23c-477a-98cf-1d7c5113539d",
   "metadata": {},
   "outputs": [
    {
     "name": "stdout",
     "output_type": "stream",
     "text": [
      "Alerta! -1.0 es una baja temperatura\n",
      "5.0 es una temperatura normal\n",
      "Alerta! 47.0 es una alta temperatura\n",
      "25.0 es una temperatura normal\n",
      "Alerta! 55.0 es una alta temperatura\n",
      "15.0 es una temperatura normal\n",
      "30.0 es una temperatura normal\n",
      "18.0 es una temperatura normal\n",
      "Alerta! -5.0 es una baja temperatura\n"
     ]
    }
   ],
   "source": [
    "\n",
    "temperaturas_f = [30.2, 41, 115.7, 77, 130.46, 59, 86, 63.5, 23]\n",
    "temperaturas_c = []\n",
    "\n",
    "for temp in temperaturas_f:\n",
    "    alerta_temp(far2cel(temp))\n"
   ]
  },
  {
   "cell_type": "code",
   "execution_count": null,
   "id": "02d83678-106d-4d0f-bea5-e4c7765175c1",
   "metadata": {},
   "outputs": [],
   "source": []
  }
 ],
 "metadata": {
  "kernelspec": {
   "display_name": "CoCo",
   "language": "python",
   "name": "coco"
  },
  "language_info": {
   "codemirror_mode": {
    "name": "ipython",
    "version": 3
   },
   "file_extension": ".py",
   "mimetype": "text/x-python",
   "name": "python",
   "nbconvert_exporter": "python",
   "pygments_lexer": "ipython3",
   "version": "3.10.4"
  }
 },
 "nbformat": 4,
 "nbformat_minor": 5
}
