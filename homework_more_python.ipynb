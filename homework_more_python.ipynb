{
 "cells": [
  {
   "cell_type": "markdown",
   "id": "1b757aec-b0e8-4515-890a-6ff2e879968a",
   "metadata": {
    "tags": []
   },
   "source": [
    "# Homework: Loops, if, functions\n",
    "\n",
    "### 1° Task\n",
    "\n",
    "1. Convert the following list of temperatures in Fahrenheit to Celsius with a for loop.\n",
    "   `temperatures_f = [30.2, 41, 115.7, 77, 130.46, 59, 86, 63.5, 23]`\n",
    "   > Help: It may be useful to create an empty list where we store the temperature data in Celsius and add values to it with the append method."
   ]
  },
  {
   "cell_type": "code",
   "execution_count": 1,
   "id": "d0b87634-9493-4faf-8615-e39cff6e8ca9",
   "metadata": {},
   "outputs": [
    {
     "name": "stdout",
     "output_type": "stream",
     "text": [
      "Las temperaturas en Celsius son:  [-1.0, 5.0, 47.0, 25.0, 55.0, 15.0, 30.0, 18.0, -5.0]\n"
     ]
    }
   ],
   "source": [
    "#importar librería\n",
    "import numpy as np\n",
    "\n",
    "#crear lista de temperaturas en Farenheit\n",
    "temperaturas_f = [30.2, 41, 115.7, 77, 130.46, 59, 86, 63.5, 23]\n",
    "#crear lista vacía para colocar temperaturas en Celsius\n",
    "temperaturas_c = []\n",
    "\n",
    "#Convertir temperaturas de F a C y agregar cada una a la lista de Celsius.\n",
    "for temp in temperaturas_f:\n",
    "    celsius = np.round((temp - 32)*(5/9))\n",
    "    temperaturas_c.append(celsius)\n",
    "\n",
    "#Desplegar las temperaturas en C\n",
    "print(\"Las temperaturas en Celsius son: \",temperaturas_c)"
   ]
  },
  {
   "cell_type": "markdown",
   "id": "4d94e7f0-7269-41ca-b804-a8befeb8d929",
   "metadata": {
    "tags": []
   },
   "source": [
    "2. Use for loops and conditionals to generate a temperature alert for:\n",
    "    - low temperatures (less or equal than 0°C)\n",
    "    - high temperatures (greater or equal than 35°C)\n",
    "    - normal temperatures (between 0°C and 35°C)"
   ]
  },
  {
   "cell_type": "code",
   "execution_count": 2,
   "id": "6b4b0166-ff4e-4810-855d-8fe8ba67e271",
   "metadata": {},
   "outputs": [
    {
     "name": "stdout",
     "output_type": "stream",
     "text": [
      "Alerta! -1.0 es una baja temperatura\n",
      "5.0 es una temperatura normal\n",
      "Alerta! 47.0 es una alta temperatura\n",
      "25.0 es una temperatura normal\n",
      "Alerta! 55.0 es una alta temperatura\n",
      "15.0 es una temperatura normal\n",
      "30.0 es una temperatura normal\n",
      "18.0 es una temperatura normal\n",
      "Alerta! -5.0 es una baja temperatura\n"
     ]
    }
   ],
   "source": [
    "#loop for para generar las alertas\n",
    "for temp in temperaturas_c:\n",
    "    if temp <= 0:\n",
    "        print(\"Alerta!\", temp, \"es una baja temperatura\")\n",
    "    elif temp >= 35:\n",
    "        print(\"Alerta!\", temp, \"es una alta temperatura\")\n",
    "    else:\n",
    "        print(temp, \"es una temperatura normal\")"
   ]
  },
  {
   "cell_type": "markdown",
   "id": "c5053371-9d9c-4d7d-b3ba-a971f20a797a",
   "metadata": {
    "tags": []
   },
   "source": [
    "3. Generate two functions:\n",
    "    - a function that takes a single value of temperature in Fahrenheit and returns the same value in Celsius.\n",
    "    - a function that takes a single temperature value and prints its corresponding temperature alert.\n",
    "    \n",
    "    Use a for loop to iterate over the temperature values in Fahrenheit: convert the value to Celsius and print the alert. Use the two functions to do so."
   ]
  },
  {
   "cell_type": "code",
   "execution_count": 3,
   "id": "ecfee15b-47ae-4bb2-9768-623fec24304d",
   "metadata": {},
   "outputs": [],
   "source": [
    "# Creación de la función para convertir temperaturas de F a C.\n",
    "def far2cel(F):\n",
    "    \"\"\"\n",
    "    Convertir un valor de temperatura de Farenheit a Celsius\n",
    "    ----------------\n",
    "    \n",
    "    Argumentos:\n",
    "    F: int o float\n",
    "       Valor de la temperatura en Farenheit\n",
    "    -----------------\n",
    "    \n",
    "    Return:\n",
    "    C: int o float\n",
    "       Valor de la temperatura en Celsius\n",
    "    \"\"\"\n",
    "    C=np.round((F-32)*(5/9))\n",
    "    return C"
   ]
  },
  {
   "cell_type": "code",
   "execution_count": 4,
   "id": "6a29b152-3f76-49c0-92d4-92884946dbbd",
   "metadata": {},
   "outputs": [
    {
     "data": {
      "text/plain": [
       "0.0"
      ]
     },
     "execution_count": 4,
     "metadata": {},
     "output_type": "execute_result"
    }
   ],
   "source": [
    "#Ejemplo de uso de la función\n",
    "far2cel(32)"
   ]
  },
  {
   "cell_type": "code",
   "execution_count": 5,
   "id": "e0eebb0e-27ba-42c8-9e37-58c230410ced",
   "metadata": {},
   "outputs": [],
   "source": [
    "#Creación de la función que genera las alertas de temperatura\n",
    "def alerta_temp(temp):\n",
    "    \"\"\"\n",
    "    Imprime una alerta en base al valor de la temperatura en Celsius\n",
    "    --------------\n",
    "    \n",
    "    Argumentos:\n",
    "    C: int o float\n",
    "       Valor de la temperatura en Celsius\n",
    "    \"\"\"\n",
    "    if temp <= 0:\n",
    "        print(\"Alerta!\", temp, \"es una baja temperatura\")\n",
    "    elif temp >= 35:\n",
    "        print(\"Alerta!\", temp, \"es una alta temperatura\")\n",
    "    else:\n",
    "        print(temp, \"es una temperatura normal\")"
   ]
  },
  {
   "cell_type": "code",
   "execution_count": 6,
   "id": "501ad70b-8d50-4af2-b5d1-e40ad9f3bca4",
   "metadata": {},
   "outputs": [
    {
     "name": "stdout",
     "output_type": "stream",
     "text": [
      "Alerta! -3 es una baja temperatura\n"
     ]
    }
   ],
   "source": [
    "alerta_temp(-3)"
   ]
  },
  {
   "cell_type": "code",
   "execution_count": 7,
   "id": "e5f27edf-d23c-477a-98cf-1d7c5113539d",
   "metadata": {},
   "outputs": [
    {
     "name": "stdout",
     "output_type": "stream",
     "text": [
      "Alerta! -1.0 es una baja temperatura\n",
      "5.0 es una temperatura normal\n",
      "Alerta! 47.0 es una alta temperatura\n",
      "25.0 es una temperatura normal\n",
      "Alerta! 55.0 es una alta temperatura\n",
      "15.0 es una temperatura normal\n",
      "30.0 es una temperatura normal\n",
      "18.0 es una temperatura normal\n",
      "Alerta! -5.0 es una baja temperatura\n"
     ]
    }
   ],
   "source": [
    "# Lista de temperaturas en Farenheit\n",
    "temperaturas_f = [30.2, 41, 115.7, 77, 130.46, 59, 86, 63.5, 23]\n",
    "\n",
    "# Loop for para convertir las temperaturas a Celsius y generar las alertas\n",
    "for temp in temperaturas_f:\n",
    "    alerta_temp(far2cel(temp))\n"
   ]
  },
  {
   "cell_type": "markdown",
   "id": "591eb6aa-62b0-4040-910b-f8766187e0e3",
   "metadata": {},
   "source": [
    "### 2° Task\n",
    "\n",
    "Your local airport is famous for its bad weather conditions.\n",
    "They need a tower operator to be constantly monitoring the weather conditions, specially the **wind speed** and the **visibility**.\n",
    "- If the **wind speed** is greater than 12 knots, then the runway must be closed and no plane can takeoff.\n",
    "- If the **visibility** is lower than 100 meters, they should also close the runway.\n",
    "- If the **wind speed** is between 8 kt and 12 kt, they should warn pilots of high wind speeds.\n",
    "- If the **visiblity** is between 100 meters and 500 meters, they should warn pilots of low visibilty conditions.\n",
    "- On any other situation, the weather is good enough so the runway is open and no warning should be issued.\n",
    "\n",
    "They want to automate this warning system so the operator can have more  time to assist pilots.\n",
    "\n",
    "Write a function that takes **wind speed** in knots and **visibility** in meters.\n",
    "The function must raise warnings of high wind speeds or low visiblity conditions, or even close the runway if the weather conditions are bad enough.\n",
    "\n",
    "As a condition, the function must not have `print` statements, instead it should return strings like `\"good weather\"`, `\"low visibility conditions\"` or `\"bad weather: close runway\"`. Be creative!\n",
    "\n",
    "Feel free to test your function against some combinations of **wind speed** and **visiblity**.\n",
    "\n",
    "> **Help**:<br>\n",
    "> Explore how you can use the `and` and `or` operators in your `if` and `elif` statements."
   ]
  },
  {
   "cell_type": "code",
   "execution_count": 8,
   "id": "33af656f-e38b-43ae-92a2-d19a12695eb2",
   "metadata": {},
   "outputs": [],
   "source": [
    "# Crear función que evalúa la visibilidad y la velocidad del viento para generar alertas.\n",
    "def airport_warning(wind,visibility):\n",
    "    if wind > 12 or visibility < 100:\n",
    "        warning=\"bad weather: close runway\"\n",
    "    elif wind >= 8 and wind <= 12:\n",
    "        if visibility >= 100 and visibility <= 500:\n",
    "            warning=\"high wind speed and low visibility conditions\"\n",
    "        else:\n",
    "            warning=\"high wind speed conditions\"    \n",
    "    elif visibility >= 100 and visibility <= 500:\n",
    "        warning=\"low visibility conditions\"\n",
    "    else:\n",
    "        warning=\"good weather\"\n",
    "    return warning"
   ]
  },
  {
   "cell_type": "code",
   "execution_count": 9,
   "id": "b8275d4a-c5a9-4fd2-90cc-298c6dca22dc",
   "metadata": {},
   "outputs": [
    {
     "data": {
      "text/plain": [
       "'low visibility conditions'"
      ]
     },
     "execution_count": 9,
     "metadata": {},
     "output_type": "execute_result"
    }
   ],
   "source": [
    "#ejemplo de uso de la función\n",
    "airport_warning(5,400)"
   ]
  },
  {
   "cell_type": "markdown",
   "id": "07cad89a-1b13-492e-8365-324eaf8b410d",
   "metadata": {},
   "source": [
    "### 3° Task\n",
    "\n",
    "In the previous notebook we repeatedly graphed a zero-centered Gaussian function by modifying the sigma parameter:\n",
    "\n",
    "$$ g(x) = \\frac{1}{\\sigma\\sqrt{2\\pi}} e^{ -\\frac{1}{2}\\left(\\frac{x}{\\sigma}\\right)^2}$$\n",
    "\n",
    "This task could have been easier if we had encapsulated the Gaussian function within a Python function.\n",
    "In addition, defining functions to perform calculations helps us prevent mistake.\n",
    "Especially, if we create a function with good documentation that we can use in the future.\n",
    "These habits (among others) are part of what is known as good practices for software development.\n",
    "\n",
    "1. Write a function that evaluates the Gaussian function and returns its value.\n",
    "2. This function must be able to accept a value of $\\sigma$ as an argument, assuming it by default equal to 1.\n",
    "3. Add a detailed documentation of the Gaussian function. What does the function do? What arguments does it support? What values does it return?"
   ]
  },
  {
   "cell_type": "code",
   "execution_count": 10,
   "id": "fece49d8-48d4-4bd5-916b-9b54ec2f40b7",
   "metadata": {},
   "outputs": [],
   "source": [
    "#Creación de función que calcula la función gaussiana\n",
    "def gaussian(x,sigma=1):\n",
    "    \"\"\"\n",
    "    Calcula el valor de la función gaussiana g evaluándola para x:\n",
    "    \n",
    "    g(x)=(1/(sigma*sqrt(2*pi)))exp(-(1/2)(x/sigma)^2)\n",
    "    \n",
    "    Parameters\n",
    "    ----------\n",
    "    x : float or array\n",
    "        Abscisa sobre la cual se evaluará la función gaussiana\n",
    "    sigma : float (optional) (default sigma=1)\n",
    "        \n",
    "    \n",
    "    Returns\n",
    "    -------\n",
    "    g : float or array\n",
    "    \"\"\"\n",
    "    g=np.e**(-0.5*((x/sigma)**2))/(sigma*np.sqrt(2*np.pi))\n",
    "    return g"
   ]
  },
  {
   "cell_type": "code",
   "execution_count": 11,
   "id": "7c923fb2-af7d-410b-90ee-18b30d5902cd",
   "metadata": {},
   "outputs": [
    {
     "name": "stdout",
     "output_type": "stream",
     "text": [
      "g1 = 0.38138781546052414\n",
      "g2 = [0.24197072 0.29481487 0.34189229 0.37738323 0.39648726 0.39648726\n",
      " 0.37738323 0.34189229 0.29481487 0.24197072]\n",
      "g3 = 0.7767442199328519\n"
     ]
    }
   ],
   "source": [
    "#Ejemplos\n",
    "x1=0.3\n",
    "x2=x=np.linspace(-1,1,10)\n",
    "\n",
    "g1=gaussian(x1)\n",
    "print(\"g1 =\",g1)\n",
    "\n",
    "g2=gaussian(x2)\n",
    "print(\"g2 =\",g2)\n",
    "\n",
    "g3=gaussian(x1,0.25)\n",
    "print(\"g3 =\",g3)"
   ]
  },
  {
   "cell_type": "markdown",
   "id": "e49cc589-a288-47da-909a-4a852621f93c",
   "metadata": {},
   "source": [
    "4. Select at least three different values of $\\sigma$ and plot the Gaussians using a for loop."
   ]
  },
  {
   "cell_type": "code",
   "execution_count": 12,
   "id": "7c4919e9-f3f1-4594-9ec7-00e055f73e8a",
   "metadata": {},
   "outputs": [
    {
     "data": {
      "image/png": "[encoded data removed]",
      "text/plain": [
       "<Figure size 432x288 with 1 Axes>"
      ]
     },
     "metadata": {
      "needs_background": "light"
     },
     "output_type": "display_data"
    }
   ],
   "source": [
    "#importar librerías\n",
    "import numpy as np\n",
    "import matplotlib.pyplot as plt\n",
    "\n",
    "#Definir valores de sigma a utilizar\n",
    "sigma=[0.25,0.5,0.75,1]\n",
    "#Generar la lista de valores de x\n",
    "x=np.linspace(-1,1,1000)\n",
    "\n",
    "#Loop para graficar la función con los distintos valores de sigma\n",
    "for sig in sigma:\n",
    "    g=gaussian(x,sig)\n",
    "    plt.plot(x,g,label=\"sigma = \"+str(sig))\n",
    "\n",
    "#Otros atributos del gráfico\n",
    "plt.legend()\n",
    "plt.title(\"Función gausiana\")\n",
    "plt.xlabel(\"x\")\n",
    "plt.ylabel(\"Función gausiana: g(x)\")\n",
    "plt.show()"
   ]
  },
  {
   "cell_type": "markdown",
   "id": "c54e037e-3d08-4ac6-94ee-6b59cb780b24",
   "metadata": {},
   "source": [
    "**Bonus track**\n",
    "\n",
    "The generalized expression of the Gaussian function is:\n",
    "\n",
    "$$ g(x) = \\frac{1}{\\sigma\\sqrt{2\\pi}} e^{ -\\frac{1}{2}\\left(\\frac{x-\\mu}{\\sigma}\\right)^2}$$\n",
    "\n",
    "Where $\\mu$ indicates the abscissa corresponding to the peak of the function.\n",
    "\n",
    "1. Generalize the above function to allow an additional argument mu, with a default value equal to 0.\n",
    "2. Update the function documentation for the new value."
   ]
  },
  {
   "cell_type": "code",
   "execution_count": 13,
   "id": "45f65372-bf05-402a-97ea-4c0f16893a79",
   "metadata": {},
   "outputs": [],
   "source": [
    "#Creación de la función que calcula la función gaussiana generalizada\n",
    "def gaussian_gen(x,sigma=1,mu=0):\n",
    "    \"\"\"\n",
    "    Calcula el valor de la función gaussiana generalizada g evaluándola para x:\n",
    "    \n",
    "    g(x)=(1/(sigma*sqrt(2*pi)))exp(-(1/2)((x-mu)/sigma)^2)\n",
    "    \n",
    "    Parameters\n",
    "    ----------\n",
    "    x : float or array\n",
    "        Abscisa sobre la cual se evaluará la función gaussiana\n",
    "    sigma : float (optional) (default sigma=1)\n",
    "    mu: float (optional) (default mu=0)\n",
    "        \n",
    "    \n",
    "    Returns\n",
    "    -------\n",
    "    g : float or array\n",
    "    \"\"\"\n",
    "    g=np.e**(-0.5*(((x-mu)/sigma)**2))/(sigma*np.sqrt(2*np.pi))\n",
    "    return g"
   ]
  },
  {
   "cell_type": "markdown",
   "id": "b890abfc-e299-4830-9c06-1175b152dc2a",
   "metadata": {},
   "source": [
    "3. Select at least three different values of $ \\mu $ and plot the Gaussians for the same value of $ \\sigma $."
   ]
  },
  {
   "cell_type": "code",
   "execution_count": 14,
   "id": "caf186e2-1f7f-4043-b3ed-2bd2897a6bdf",
   "metadata": {},
   "outputs": [
    {
     "data": {
      "image/png": "[encoded data removed]",
      "text/plain": [
       "<Figure size 432x288 with 1 Axes>"
      ]
     },
     "metadata": {
      "needs_background": "light"
     },
     "output_type": "display_data"
    }
   ],
   "source": [
    "#Definición de los valores de mu a utilizar\n",
    "mu_val=[0,0.25,0.5,1]\n",
    "#Listado de valores de x\n",
    "x=np.linspace(-3,4,1000)\n",
    "\n",
    "#Loop para graficar la función gaussiana generalizada usando la lista \n",
    "#de valores de mu y el valor por default de sigma\n",
    "for m in mu_val:\n",
    "    g=gaussian_gen(x,mu=m)\n",
    "    plt.plot(x,g,label=\"mu = \"+str(m))\n",
    "\n",
    "#otros atributos del gráfico\n",
    "plt.legend()\n",
    "plt.title(\"Función gausiana\")\n",
    "plt.xlabel(\"x\")\n",
    "plt.ylabel(\"Función gausiana: g(x)\")\n",
    "plt.show()"
   ]
  },
  {
   "cell_type": "code",
   "execution_count": null,
   "id": "586a71b0-a651-4ef2-8957-fe92dec647c5",
   "metadata": {},
   "outputs": [],
   "source": []
  }
 ],
 "metadata": {
  "kernelspec": {
   "display_name": "CoCo",
   "language": "python",
   "name": "coco"
  },
  "language_info": {
   "codemirror_mode": {
    "name": "ipython",
    "version": 3
   },
   "file_extension": ".py",
   "mimetype": "text/x-python",
   "name": "python",
   "nbconvert_exporter": "python",
   "pygments_lexer": "ipython3",
   "version": "3.10.4"
  }
 },
 "nbformat": 4,
 "nbformat_minor": 5
}
