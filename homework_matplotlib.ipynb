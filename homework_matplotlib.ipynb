{
 "cells": [
  {
   "cell_type": "markdown",
   "id": "771e22dc-a16a-4e7d-b8fc-37ed097deb14",
   "metadata": {},
   "source": [
    "# Mathplotlib homework"
   ]
  },
  {
   "cell_type": "code",
   "execution_count": null,
   "id": "eefb2b1e-ecde-428c-b4d8-7d09c544f404",
   "metadata": {},
   "outputs": [],
   "source": []
  }
 ],
 "metadata": {
  "kernelspec": {
   "display_name": "CoCo",
   "language": "python",
   "name": "coco"
  },
  "language_info": {
   "codemirror_mode": {
    "name": "ipython",
    "version": 3
   },
   "file_extension": ".py",
   "mimetype": "text/x-python",
   "name": "python",
   "nbconvert_exporter": "python",
   "pygments_lexer": "ipython3",
   "version": "3.10.4"
  }
 },
 "nbformat": 4,
 "nbformat_minor": 5
}
