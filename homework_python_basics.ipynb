{
 "cells": [
  {
   "cell_type": "markdown",
   "id": "9114bb58-5040-4a1a-95cd-5ca896b28cf6",
   "metadata": {},
   "source": [
    "# Python basics homework"
   ]
  },
  {
   "cell_type": "code",
   "execution_count": 1,
   "id": "1112043a-e322-48f5-b039-eac7d531fa90",
   "metadata": {},
   "outputs": [],
   "source": [
    "import numpy as np"
   ]
  },
  {
   "cell_type": "markdown",
   "id": "27edeb3c-d7f5-4da5-ae29-13c1d9bc70bd",
   "metadata": {},
   "source": [
    "#### 1° Task\n",
    "\n",
    "1. Create a list with the names of every planet in the solar system (in order)\n",
    "2. Have Python tell you how many planets there are by examining your list\n",
    "3. Print the first four planets in the solar system (the rocky planets)\n",
    "4. Print the planet if it has an s at the end in its name"
   ]
  },
  {
   "cell_type": "code",
   "execution_count": 2,
   "id": "f00fbeba-93a9-4c01-8950-a9cf4eecf3dc",
   "metadata": {},
   "outputs": [],
   "source": [
    "planets=[\"Mercury\", \"Venus\", \"Earth\", \"Mars\", \"Jupiter\", \"Saturn\", \"Uranus\", \"Neptune\"]"
   ]
  },
  {
   "cell_type": "code",
   "execution_count": 3,
   "id": "dbfccd12-611d-43a3-8d62-ce27a5f202c4",
   "metadata": {},
   "outputs": [
    {
     "name": "stdout",
     "output_type": "stream",
     "text": [
      "There are 8 planets\n"
     ]
    }
   ],
   "source": [
    "print(\"There are\", len(planets), \"planets\")"
   ]
  },
  {
   "cell_type": "code",
   "execution_count": 4,
   "id": "ef3fd244-5471-4348-b740-a97ab06c3e37",
   "metadata": {},
   "outputs": [
    {
     "name": "stdout",
     "output_type": "stream",
     "text": [
      "The rocky planets in the solar system are:\n"
     ]
    },
    {
     "data": {
      "text/plain": [
       "['Mercury', 'Venus', 'Earth', 'Mars']"
      ]
     },
     "execution_count": 4,
     "metadata": {},
     "output_type": "execute_result"
    }
   ],
   "source": [
    "print (\"The rocky planets in the solar system are:\") \n",
    "planets[0:4]"
   ]
  },
  {
   "cell_type": "code",
   "execution_count": 5,
   "id": "399e8242-3509-48b1-93e8-af1b17630f1f",
   "metadata": {},
   "outputs": [
    {
     "name": "stdout",
     "output_type": "stream",
     "text": [
      "The planets that have an \"s\" in their name are: Venus , Mars , Saturn , and Uranus\n"
     ]
    }
   ],
   "source": [
    "print('The planets that have an \"s\" in their name are:',planets[1],\",\",planets[3],\",\",planets[5],\", and\",planets[6])"
   ]
  },
  {
   "cell_type": "markdown",
   "id": "0dbd533c-dc32-4d31-ba18-d72ab95fe94f",
   "metadata": {},
   "source": [
    "#### 2° Task\n",
    "\n",
    "A colleague from the United States shared with us the following temperature measurement, given in Fahrenheit:\n",
    "\n",
    "$$\n",
    "T = 30.3^\\circ \\text{F}\n",
    "$$\n",
    "\n",
    "Convert this value to degrees Celsius, knowing that:\n",
    "$$[^\\circ \\text{C}] = \\frac{5}{9} ([^\\circ \\text{F}] - 32) $$ \n",
    "\n",
    "Requirements:\n",
    "\n",
    "* Assign the received data to a variable.\n",
    "* Apply the unit transformation using this variable.\n",
    "* Save the data in Celsius in another variable.\n",
    "* Use the print function to display both results."
   ]
  },
  {
   "cell_type": "code",
   "execution_count": 6,
   "id": "31cd9a8c-061f-4f6d-a766-d27f5b6d9ed0",
   "metadata": {},
   "outputs": [
    {
     "name": "stdout",
     "output_type": "stream",
     "text": [
      "The temperature in Fahrenheit is 30.3 and the temperature in Celsius is -0.9444444444444441\n"
     ]
    }
   ],
   "source": [
    "Tf=30.3\n",
    "Tc=(5/9)*(Tf-32)\n",
    "print(\"The temperature in Fahrenheit is\",Tf,\"and the temperature in Celsius is\", Tc)"
   ]
  },
  {
   "cell_type": "markdown",
   "id": "2f66c3cf-2687-43e6-9e86-13881a2988ac",
   "metadata": {},
   "source": [
    "#### 3° Task\n",
    "\n",
    "Given the array: `([1, 2, 3, 4, 5, 6, 7, 8, 9, 10, 11, 12, 13, 14, 15, 16])`, investigate the `numpy` library documentation for reshape the array to be 4x4."
   ]
  },
  {
   "cell_type": "code",
   "execution_count": 7,
   "id": "218c7663-622f-4cd2-9bca-3a7c157f1a9f",
   "metadata": {},
   "outputs": [
    {
     "name": "stdout",
     "output_type": "stream",
     "text": [
      "array_old\n",
      "[1, 2, 3, 4, 5, 6, 7, 8, 9, 10, 11, 12, 13, 14, 15, 16]\n",
      "array_new\n",
      "[[ 1  2  3  4]\n",
      " [ 5  6  7  8]\n",
      " [ 9 10 11 12]\n",
      " [13 14 15 16]]\n"
     ]
    }
   ],
   "source": [
    "array_old=([1, 2, 3, 4, 5, 6, 7, 8, 9, 10, 11, 12, 13, 14, 15, 16])\n",
    "print(\"array_old\")\n",
    "print(array_old)\n",
    "array_new=np.reshape(array_old,(4,4))\n",
    "print(\"array_new\")\n",
    "print(array_new)"
   ]
  },
  {
   "cell_type": "markdown",
   "id": "f9b45e1a-a6b3-4101-8036-72db8ad9de12",
   "metadata": {},
   "source": [
    "#### 4° Task\n",
    "\n",
    "`NumPy` allows us to apply mathematical functions.\n",
    "\n",
    "Calculate the sine and cosine of the angles 0, 30, 45, 60 and 90 given in degrees:\n",
    "1. Create an array with the angles in degrees.\n",
    "2. Convert the angles to radians.\n",
    "3. Calculate the sine and cosine of these angles and store them in two different arrays.\n",
    "\n",
    "_Investigate the `numpy` library to find the functions to convert the angles from degrees to radians and calculate the sine and cosine._"
   ]
  },
  {
   "cell_type": "code",
   "execution_count": 8,
   "id": "46e161ad-9700-4f04-a3d5-f57b58ca0819",
   "metadata": {},
   "outputs": [
    {
     "name": "stdout",
     "output_type": "stream",
     "text": [
      "angles in degrees: [0, 30, 45, 60, 90]\n",
      "angles in radians: [0.         0.52359878 0.78539816 1.04719755 1.57079633]\n",
      "sin: [0.         0.5        0.70710678 0.8660254  1.        ]\n",
      "cos: [1.00000000e+00 8.66025404e-01 7.07106781e-01 5.00000000e-01\n",
      " 6.12323400e-17]\n"
     ]
    }
   ],
   "source": [
    "angles_deg=[0,30,45,60,90]\n",
    "angles_rad=np.deg2rad(angles_deg)\n",
    "print(\"angles in degrees:\",angles_deg)\n",
    "print(\"angles in radians:\",angles_rad)\n",
    "sin_angles=np.sin(angles_rad)\n",
    "print(\"sin:\", sin_angles)\n",
    "cos_angles=np.cos(angles_rad)\n",
    "print(\"cos:\", cos_angles)"
   ]
  },
  {
   "cell_type": "markdown",
   "id": "52ec56c1-c742-4ecd-983c-eb0a4f537eeb",
   "metadata": {},
   "source": [
    "#### 5° Task\n",
    "\n",
    "\n",
    "**Finite differences | Diferencias finitas**\n",
    "\n",
    "A common approximation for computing derivatives of functions is a finite difference approximation:\n",
    "\n",
    "$$\\frac{d}{dx} y(x) = \\frac{y(x + \\Delta x) - y(x)}{\\Delta x}$$\n",
    "\n",
    "or for discrete data\n",
    "\n",
    "$$\\frac{d}{dx} y(x_i) = \\frac{y(x_i + \\Delta x) - y(x_i)}{\\Delta x} = \\frac{y(x_{i+1}) - y(x_i)}{x_{i+1} - x_{i}}$$\n",
    "\n",
    "This operation can be accomplished using index, slice and vectorized algebraic operations.\n",
    "Try to solve it for the quadratic function!\n",
    "\n",
    "Now, read the numpy documentation to find a function to calculate $\\frac{d}{dx} y(x_i)$."
   ]
  },
  {
   "cell_type": "markdown",
   "id": "9a70e1fd-610a-4944-b35a-e40ddf5561d5",
   "metadata": {},
   "source": [
    "In the case of the quadratic function, $$y=ax^2+bx+c$$\n",
    "\n",
    "the first derivative is\n",
    "\n",
    "$$\\frac{d}{dx} y(x_i) = \\frac{ax_{i+1}^2+bx_{i+1}+c-ax_{i}^2-bx_{i}-c}{x_{i+1}-x_i}=\\frac{a*(x_{i+1}^2-x_{i}^2)+bx_{i+1}-bx_{i}}{x_{i+1}-x_i}$$"
   ]
  },
  {
   "cell_type": "markdown",
   "id": "114577c1-886d-4636-b9b3-cd6a4eb9cc1a",
   "metadata": {},
   "source": [
    "En numpy encontré la función poly1d.deriv() para obtener derivadas de polinomios. La función polyder() hace lo mismo. También encontré que, con la librería sympy se puede hacer matemática simbólica y es posible calcular derivadas con la función diff() o derivative."
   ]
  },
  {
   "cell_type": "code",
   "execution_count": 9,
   "id": "6bb01cde-3f4c-48ed-9e4f-8f1621f284d3",
   "metadata": {},
   "outputs": [
    {
     "name": "stdout",
     "output_type": "stream",
     "text": [
      "La derivada de\n",
      "   3     2\n",
      "5 x - 3 x + 4 x + 9\n",
      "es\n",
      "    2\n",
      "15 x - 6 x + 4\n"
     ]
    }
   ],
   "source": [
    "#ejemplo con librería numpy\n",
    "coef=[5,-3,4,9] #coeficientes del polinomio\n",
    "p=np.poly1d(coef) #construcción del polinomio\n",
    "dp_dx=np.poly1d.deriv(p) #cálculo de la derivada\n",
    "print(\"La derivada de\")\n",
    "print(p)\n",
    "print(\"es\")\n",
    "print(dp_dx)"
   ]
  },
  {
   "cell_type": "code",
   "execution_count": null,
   "id": "bffe9f0d-d9e3-4c36-aa18-48ce56da45b5",
   "metadata": {
    "tags": []
   },
   "outputs": [],
   "source": []
  },
  {
   "cell_type": "code",
   "execution_count": null,
   "id": "56c0073a-c4ed-4f82-b598-b8c55ff4466f",
   "metadata": {},
   "outputs": [],
   "source": []
  }
 ],
 "metadata": {
  "kernelspec": {
   "display_name": "CoCo",
   "language": "python",
   "name": "coco"
  },
  "language_info": {
   "codemirror_mode": {
    "name": "ipython",
    "version": 3
   },
   "file_extension": ".py",
   "mimetype": "text/x-python",
   "name": "python",
   "nbconvert_exporter": "python",
   "pygments_lexer": "ipython3",
   "version": "3.10.4"
  }
 },
 "nbformat": 4,
 "nbformat_minor": 5
}
